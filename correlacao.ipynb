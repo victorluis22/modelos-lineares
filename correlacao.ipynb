{
  "nbformat": 4,
  "nbformat_minor": 0,
  "metadata": {
    "colab": {
      "provenance": [],
      "authorship_tag": "ABX9TyNejFH4Q4Ngss8ck4ezHR7h"
    },
    "kernelspec": {
      "name": "python3",
      "display_name": "Python 3"
    },
    "language_info": {
      "name": "python"
    }
  },
  "cells": [
    {
      "cell_type": "markdown",
      "source": [
        "# Exercício de correlação (11/09)\n",
        "\n",
        "Uma firma avalia seus vendedores com notas de 0 a 100. Deseja-se ajustar um\n",
        "modelo que explique as vendas em função das notas.\n",
        "\n",
        "1. Verificar se a hipótese nula para β_1 = 0 pode ser rejeitada 1_F_8(0,05) = 5,32\n",
        "\n",
        "2. Verificar se a hipótese nula para ρ(x, y) = 0 pode ser rejeitada 1_t_8(0,05) = 2,31"
      ],
      "metadata": {
        "id": "NkRlGht8Oy0R"
      }
    },
    {
      "cell_type": "code",
      "execution_count": 23,
      "metadata": {
        "id": "U1hAjUyhOwng"
      },
      "outputs": [],
      "source": [
        "import numpy as np\n",
        "import matplotlib.pyplot as plt\n",
        "\n",
        "scores = [90, 75, 80, 65, 85, 90, 95, 75, 20, 60] # eixo x\n",
        "sales = [1.1, 1.2, 1.6, 0.7, 2.1, 2.7, 2.4, 0.7, 0.6, 0.9] # eixo y"
      ]
    },
    {
      "cell_type": "markdown",
      "source": [
        "1.1. Achar a reta da regressão linear"
      ],
      "metadata": {
        "id": "1LOohDWUOxV4"
      }
    },
    {
      "cell_type": "code",
      "source": [
        "x_mean = np.mean(scores)\n",
        "y_mean = np.mean(sales)\n",
        "N = len(scores)\n",
        "\n",
        "numerator = 0\n",
        "denominator = 0\n",
        "for i in range(N):\n",
        "    numerator += sales[i] * (scores[i] - x_mean)\n",
        "    denominator += (scores[i] - x_mean) ** 2\n",
        "\n",
        "b_1 = numerator / denominator\n",
        "b_0 = y_mean - b_1 * x_mean\n",
        "\n",
        "print('======== Resultado da regressão linear =========\\n')\n",
        "print(f'y = {b_0:.2f} + {b_1:.2f}x')\n",
        "print(f'β_0 = {b_0:.2f}')\n",
        "print(f'β_1 = {b_1:.2f}')\n",
        "\n",
        "plt.scatter(scores, sales)\n",
        "plt.plot([min(scores), max(scores)], [b_0 + b_1 * (min(scores)), b_0 + b_1 * (max(scores))], color='red')\n",
        "plt.show()"
      ],
      "metadata": {
        "colab": {
          "base_uri": "https://localhost:8080/",
          "height": 517
        },
        "id": "6qrJ5RA_R1sC",
        "outputId": "cd0ae6f4-3a8e-4928-c85b-380a73681316"
      },
      "execution_count": 24,
      "outputs": [
        {
          "output_type": "stream",
          "name": "stdout",
          "text": [
            "======== Resultado da regressão linear =========\n",
            "\n",
            "y = -0.33 + 0.02x\n",
            "β_0 = -0.33\n",
            "β_1 = 0.02\n"
          ]
        },
        {
          "output_type": "display_data",
          "data": {
            "text/plain": [
              "<Figure size 640x480 with 1 Axes>"
            ],
            "image/png": "[encoded data removed]"
          },
          "metadata": {}
        }
      ]
    },
    {
      "cell_type": "markdown",
      "source": [
        "1.2. Fazer teste de hipótese para 99,5% de significância:\n",
        "\n",
        "1_F_8(0,05) = 5,32\\\n",
        "H_0: β_1 = 0\\\n",
        "H_1: β_1 != 0\n",
        "\n"
      ],
      "metadata": {
        "id": "pJZXLSW5UiP-"
      }
    },
    {
      "cell_type": "code",
      "source": [
        "SQE = 0\n",
        "SQReg = 0\n",
        "\n",
        "for i in range(N):\n",
        "    SQE += (sales[i] - b_0 - b_1 * scores[i]) ** 2\n",
        "    SQReg += (b_0 + b_1 * scores[i] - y_mean) ** 2\n",
        "\n",
        "F_0 = (SQReg / 1) / (SQE / (N - 2))\n",
        "\n",
        "print('======== Resultado do teste de hipótese =========\\n')\n",
        "\n",
        "print(f'SQReg = {SQReg:.2f}')\n",
        "print(f'SQE = {SQE:.2f}')\n",
        "print(f'SQT = {(SQE + SQReg):.2f}')\n",
        "print(f'F_0 = {F_0:.2f}')\n",
        "\n",
        "F_1_8 = 5.32\n",
        "\n",
        "if F_0 > F_1_8:\n",
        "    print('Hipótese nula rejeitada. Modelo MRLS é o que melhor se encaixa nos pontos.')\n",
        "else:\n",
        "    print('Hipótese nula não rejeitada.')"
      ],
      "metadata": {
        "colab": {
          "base_uri": "https://localhost:8080/"
        },
        "id": "UhOkia_YVAUz",
        "outputId": "176ff9ae-ae95-490d-d2f9-86325eb8371a"
      },
      "execution_count": 25,
      "outputs": [
        {
          "output_type": "stream",
          "name": "stdout",
          "text": [
            "======== Resultado do teste de hipótese =========\n",
            "\n",
            "SQReg = 2.39\n",
            "SQE = 2.83\n",
            "SQT = 5.22\n",
            "F_0 = 6.78\n",
            "Hipótese nula rejeitada. Modelo MRLS é o que melhor se encaixa nos pontos.\n"
          ]
        }
      ]
    },
    {
      "cell_type": "markdown",
      "source": [
        "2.1. Calcular coeficiente de correlação"
      ],
      "metadata": {
        "id": "aDfD8RFXWGCD"
      }
    },
    {
      "cell_type": "code",
      "source": [
        "SXX = 0\n",
        "SYY = 0\n",
        "SXY = 0\n",
        "\n",
        "for i in range(N):\n",
        "    SXX += (scores[i] - x_mean) ** 2\n",
        "    SYY += (sales[i] - y_mean) ** 2\n",
        "    SXY += (scores[i] - x_mean) * (sales[i] - y_mean)\n",
        "\n",
        "p = SXY / ((SXX * SYY) ** 0.5)\n",
        "\n",
        "print('======== Resultado do coeficiente de correlação =========\\n')\n",
        "print(f'p = {p:.2f}')"
      ],
      "metadata": {
        "colab": {
          "base_uri": "https://localhost:8080/"
        },
        "id": "-7JcXKrFWNAx",
        "outputId": "a8662c34-5da5-4a64-fbcf-7ad0f24033c2"
      },
      "execution_count": 26,
      "outputs": [
        {
          "output_type": "stream",
          "name": "stdout",
          "text": [
            "======== Resultado do coeficiente de correlação =========\n",
            "\n",
            "p = 0.68\n"
          ]
        }
      ]
    },
    {
      "cell_type": "markdown",
      "source": [
        "2.2. Teste de hipótese com t-student com (N-2) graus de liberdade:\n",
        "\n",
        "1_t_8(0,05) = 2,31\\\n",
        "H_0: p(x,y) = 0\\\n",
        "H_1: p(x,y) != 0"
      ],
      "metadata": {
        "id": "uuuLPxB4WxJa"
      }
    },
    {
      "cell_type": "code",
      "source": [
        "T = p * ((N - 2) ** 0.5) / ((1 - p ** 2) ** 0.5)\n",
        "\n",
        "print('======== Resultado do teste de hipótese =========\\n')\n",
        "print(f'T = {T:.2f}')\n",
        "\n",
        "T_1_8 = 2.31\n",
        "\n",
        "if T > T_1_8:\n",
        "    print('Hipótese nula rejeitada. Existem relações entre as variáveis.')\n",
        "else:\n",
        "    print('Hipótese nula não rejeitada.')"
      ],
      "metadata": {
        "colab": {
          "base_uri": "https://localhost:8080/"
        },
        "id": "A2cMJtjxXSTJ",
        "outputId": "2961e73f-54fc-49e1-f900-9add41696ef2"
      },
      "execution_count": 27,
      "outputs": [
        {
          "output_type": "stream",
          "name": "stdout",
          "text": [
            "======== Resultado do teste de hipótese =========\n",
            "\n",
            "T = 2.60\n",
            "Hipótese nula rejeitada. Existem relações entre as variáveis.\n"
          ]
        }
      ]
    }
  ]
}